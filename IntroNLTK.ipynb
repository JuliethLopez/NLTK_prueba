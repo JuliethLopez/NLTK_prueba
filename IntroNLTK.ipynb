{
  "nbformat": 4,
  "nbformat_minor": 0,
  "metadata": {
    "colab": {
      "name": "IntroNTKL.ipynb",
      "provenance": [],
      "include_colab_link": true
    },
    "kernelspec": {
      "display_name": "Python 3",
      "language": "python",
      "name": "python3"
    },
    "language_info": {
      "codemirror_mode": {
        "name": "ipython",
        "version": 3
      },
      "file_extension": ".py",
      "mimetype": "text/x-python",
      "name": "python",
      "nbconvert_exporter": "python",
      "pygments_lexer": "ipython3",
      "version": "3.7.4"
    }
  },
  "cells": [
    {
      "cell_type": "markdown",
      "metadata": {
        "id": "view-in-github",
        "colab_type": "text"
      },
      "source": [
        "<a href=\"https://colab.research.google.com/github/JuliethLopez/NLTK_prueba/blob/master/IntroNLTK.ipynb\" target=\"_parent\"><img src=\"https://colab.research.google.com/assets/colab-badge.svg\" alt=\"Open In Colab\"/></a>"
      ]
    },
    {
      "cell_type": "markdown",
      "metadata": {
        "id": "Neu71AI0WOcn"
      },
      "source": [
        "<h1 align='center'> Introducción a NLTK (Natural Language Toolkit)</h1> "
      ]
    },
    {
      "cell_type": "markdown",
      "metadata": {
        "id": "edEDdeajZj7U"
      },
      "source": [
        "#### Referancias\n",
        "- _Nitin Hardeniya - NLTK Essentials-Packt Publishing (2015)_\n",
        "- https://www.kaggle.com/alvations/n-gram-language-model-with-nltk\n",
        "- https://stackabuse.com/python-for-nlp-creating-bag-of-words-model-from-scratch/\n",
        "- Las-Wordnet https://www.datos.gov.co/Ciencia-Tecnolog-a-e-Innovaci-n/LAS-WordNet-una-WordNet-para-el-espa-ol-obtenida-c/8z8d-85m7\n",
        "\n"
      ]
    },
    {
      "cell_type": "markdown",
      "metadata": {
        "id": "N4WE3DWSjsIy"
      },
      "source": [
        "En este cuaderno se busca introducir el uso de la API NLTK, se exlicara tanto con datos en inglés como en español. Si bien esta API fue diseñada inicalmente para la lengua inglesa, varios tokenizadores fueron bien entrenados después para trabajar con varios idiomas."
      ]
    },
    {
      "cell_type": "markdown",
      "metadata": {
        "id": "cfdNQNeUWOcw"
      },
      "source": [
        "## ¿Qué es text wrangling(discusión de texto)?\n",
        "\n",
        "Es dificil de definir el termino *text wrangling*, pero en esencia es el pre-procesamiento y el trabajo pesado que debe hacerse para que los datos sean legibles para la maquina, el proceso involucra *data munging* que es la mezcla y cambio de formato de los datos, limpieza de los datos, preprocesamiento especifico, tokenización, derivación o lematización y la eliminación de las palabras de parada."
      ]
    },
    {
      "cell_type": "code",
      "metadata": {
        "id": "7lFlmF5sWOc2"
      },
      "source": [
        "import pandas as pd\n",
        "import matplotlib.pylab as plt\n",
        "import nltk\n",
        "import tensorflow as tf\n",
        "import numpy as np\n",
        "import os"
      ],
      "execution_count": null,
      "outputs": []
    },
    {
      "cell_type": "code",
      "metadata": {
        "id": "KozQzPzyhgEd"
      },
      "source": [
        "#pip install nltk"
      ],
      "execution_count": null,
      "outputs": []
    },
    {
      "cell_type": "code",
      "metadata": {
        "id": "0Zohk4UNhgE3",
        "outputId": "59a395f0-3b2d-4ec9-bc1e-073bdc6e82e5",
        "colab": {
          "base_uri": "https://localhost:8080/",
          "height": 1000
        }
      },
      "source": [
        "nltk.download() #download all"
      ],
      "execution_count": null,
      "outputs": [
        {
          "output_type": "stream",
          "text": [
            "NLTK Downloader\n",
            "---------------------------------------------------------------------------\n",
            "    d) Download   l) List    u) Update   c) Config   h) Help   q) Quit\n",
            "---------------------------------------------------------------------------\n",
            "Downloader> d\n",
            "\n",
            "Download which package (l=list; x=cancel)?\n",
            "  Identifier> all\n",
            "    Downloading collection 'all'\n",
            "       | \n",
            "       | Downloading package abc to /root/nltk_data...\n",
            "       |   Unzipping corpora/abc.zip.\n",
            "       | Downloading package alpino to /root/nltk_data...\n",
            "       |   Unzipping corpora/alpino.zip.\n",
            "       | Downloading package biocreative_ppi to /root/nltk_data...\n",
            "       |   Unzipping corpora/biocreative_ppi.zip.\n",
            "       | Downloading package brown to /root/nltk_data...\n",
            "       |   Unzipping corpora/brown.zip.\n",
            "       | Downloading package brown_tei to /root/nltk_data...\n",
            "       |   Unzipping corpora/brown_tei.zip.\n",
            "       | Downloading package cess_cat to /root/nltk_data...\n",
            "       |   Unzipping corpora/cess_cat.zip.\n",
            "       | Downloading package cess_esp to /root/nltk_data...\n",
            "       |   Unzipping corpora/cess_esp.zip.\n",
            "       | Downloading package chat80 to /root/nltk_data...\n",
            "       |   Unzipping corpora/chat80.zip.\n",
            "       | Downloading package city_database to /root/nltk_data...\n",
            "       |   Unzipping corpora/city_database.zip.\n",
            "       | Downloading package cmudict to /root/nltk_data...\n",
            "       |   Unzipping corpora/cmudict.zip.\n",
            "       | Downloading package comparative_sentences to\n",
            "       |     /root/nltk_data...\n",
            "       |   Unzipping corpora/comparative_sentences.zip.\n",
            "       | Downloading package comtrans to /root/nltk_data...\n",
            "       | Downloading package conll2000 to /root/nltk_data...\n",
            "       |   Unzipping corpora/conll2000.zip.\n",
            "       | Downloading package conll2002 to /root/nltk_data...\n",
            "       |   Unzipping corpora/conll2002.zip.\n",
            "       | Downloading package conll2007 to /root/nltk_data...\n",
            "       | Downloading package crubadan to /root/nltk_data...\n",
            "       |   Unzipping corpora/crubadan.zip.\n",
            "       | Downloading package dependency_treebank to /root/nltk_data...\n",
            "       |   Unzipping corpora/dependency_treebank.zip.\n",
            "       | Downloading package dolch to /root/nltk_data...\n",
            "       |   Unzipping corpora/dolch.zip.\n",
            "       | Downloading package europarl_raw to /root/nltk_data...\n",
            "       |   Unzipping corpora/europarl_raw.zip.\n",
            "       | Downloading package floresta to /root/nltk_data...\n",
            "       |   Unzipping corpora/floresta.zip.\n",
            "       | Downloading package framenet_v15 to /root/nltk_data...\n",
            "       |   Unzipping corpora/framenet_v15.zip.\n",
            "       | Downloading package framenet_v17 to /root/nltk_data...\n",
            "       |   Unzipping corpora/framenet_v17.zip.\n",
            "       | Downloading package gazetteers to /root/nltk_data...\n",
            "       |   Unzipping corpora/gazetteers.zip.\n",
            "       | Downloading package genesis to /root/nltk_data...\n",
            "       |   Unzipping corpora/genesis.zip.\n",
            "       | Downloading package gutenberg to /root/nltk_data...\n",
            "       |   Unzipping corpora/gutenberg.zip.\n",
            "       | Downloading package ieer to /root/nltk_data...\n",
            "       |   Unzipping corpora/ieer.zip.\n",
            "       | Downloading package inaugural to /root/nltk_data...\n",
            "       |   Unzipping corpora/inaugural.zip.\n",
            "       | Downloading package indian to /root/nltk_data...\n",
            "       |   Unzipping corpora/indian.zip.\n",
            "       | Downloading package jeita to /root/nltk_data...\n",
            "       | Downloading package kimmo to /root/nltk_data...\n",
            "       |   Unzipping corpora/kimmo.zip.\n",
            "       | Downloading package knbc to /root/nltk_data...\n",
            "       | Downloading package lin_thesaurus to /root/nltk_data...\n",
            "       |   Unzipping corpora/lin_thesaurus.zip.\n",
            "       | Downloading package mac_morpho to /root/nltk_data...\n",
            "       |   Unzipping corpora/mac_morpho.zip.\n",
            "       | Downloading package machado to /root/nltk_data...\n",
            "       | Downloading package masc_tagged to /root/nltk_data...\n",
            "       | Downloading package moses_sample to /root/nltk_data...\n",
            "       |   Unzipping models/moses_sample.zip.\n",
            "       | Downloading package movie_reviews to /root/nltk_data...\n",
            "       |   Unzipping corpora/movie_reviews.zip.\n",
            "       | Downloading package names to /root/nltk_data...\n",
            "       |   Unzipping corpora/names.zip.\n",
            "       | Downloading package nombank.1.0 to /root/nltk_data...\n",
            "       | Downloading package nps_chat to /root/nltk_data...\n",
            "       |   Unzipping corpora/nps_chat.zip.\n",
            "       | Downloading package omw to /root/nltk_data...\n",
            "       |   Unzipping corpora/omw.zip.\n",
            "       | Downloading package opinion_lexicon to /root/nltk_data...\n",
            "       |   Unzipping corpora/opinion_lexicon.zip.\n",
            "       | Downloading package paradigms to /root/nltk_data...\n",
            "       |   Unzipping corpora/paradigms.zip.\n",
            "       | Downloading package pil to /root/nltk_data...\n",
            "       |   Unzipping corpora/pil.zip.\n",
            "       | Downloading package pl196x to /root/nltk_data...\n",
            "       |   Unzipping corpora/pl196x.zip.\n",
            "       | Downloading package ppattach to /root/nltk_data...\n",
            "       |   Unzipping corpora/ppattach.zip.\n",
            "       | Downloading package problem_reports to /root/nltk_data...\n",
            "       |   Unzipping corpora/problem_reports.zip.\n",
            "       | Downloading package propbank to /root/nltk_data...\n",
            "       | Downloading package ptb to /root/nltk_data...\n",
            "       |   Unzipping corpora/ptb.zip.\n",
            "       | Downloading package product_reviews_1 to /root/nltk_data...\n",
            "       |   Unzipping corpora/product_reviews_1.zip.\n",
            "       | Downloading package product_reviews_2 to /root/nltk_data...\n",
            "       |   Unzipping corpora/product_reviews_2.zip.\n",
            "       | Downloading package pros_cons to /root/nltk_data...\n",
            "       |   Unzipping corpora/pros_cons.zip.\n",
            "       | Downloading package qc to /root/nltk_data...\n",
            "       |   Unzipping corpora/qc.zip.\n",
            "       | Downloading package reuters to /root/nltk_data...\n",
            "       | Downloading package rte to /root/nltk_data...\n",
            "       |   Unzipping corpora/rte.zip.\n",
            "       | Downloading package semcor to /root/nltk_data...\n",
            "       | Downloading package senseval to /root/nltk_data...\n",
            "       |   Unzipping corpora/senseval.zip.\n",
            "       | Downloading package sentiwordnet to /root/nltk_data...\n",
            "       |   Unzipping corpora/sentiwordnet.zip.\n",
            "       | Downloading package sentence_polarity to /root/nltk_data...\n",
            "       |   Unzipping corpora/sentence_polarity.zip.\n",
            "       | Downloading package shakespeare to /root/nltk_data...\n",
            "       |   Unzipping corpora/shakespeare.zip.\n",
            "       | Downloading package sinica_treebank to /root/nltk_data...\n",
            "       |   Unzipping corpora/sinica_treebank.zip.\n",
            "       | Downloading package smultron to /root/nltk_data...\n",
            "       |   Unzipping corpora/smultron.zip.\n",
            "       | Downloading package state_union to /root/nltk_data...\n",
            "       |   Unzipping corpora/state_union.zip.\n",
            "       | Downloading package stopwords to /root/nltk_data...\n",
            "       |   Unzipping corpora/stopwords.zip.\n",
            "       | Downloading package subjectivity to /root/nltk_data...\n",
            "       |   Unzipping corpora/subjectivity.zip.\n",
            "       | Downloading package swadesh to /root/nltk_data...\n",
            "       |   Unzipping corpora/swadesh.zip.\n",
            "       | Downloading package switchboard to /root/nltk_data...\n",
            "       |   Unzipping corpora/switchboard.zip.\n",
            "       | Downloading package timit to /root/nltk_data...\n",
            "       |   Unzipping corpora/timit.zip.\n",
            "       | Downloading package toolbox to /root/nltk_data...\n",
            "       |   Unzipping corpora/toolbox.zip.\n",
            "       | Downloading package treebank to /root/nltk_data...\n",
            "       |   Unzipping corpora/treebank.zip.\n",
            "       | Downloading package twitter_samples to /root/nltk_data...\n",
            "       |   Unzipping corpora/twitter_samples.zip.\n",
            "       | Downloading package udhr to /root/nltk_data...\n",
            "       |   Unzipping corpora/udhr.zip.\n",
            "       | Downloading package udhr2 to /root/nltk_data...\n",
            "       |   Unzipping corpora/udhr2.zip.\n",
            "       | Downloading package unicode_samples to /root/nltk_data...\n",
            "       |   Unzipping corpora/unicode_samples.zip.\n",
            "       | Downloading package universal_treebanks_v20 to\n",
            "       |     /root/nltk_data...\n",
            "       | Downloading package verbnet to /root/nltk_data...\n",
            "       |   Unzipping corpora/verbnet.zip.\n",
            "       | Downloading package verbnet3 to /root/nltk_data...\n",
            "       |   Unzipping corpora/verbnet3.zip.\n",
            "       | Downloading package webtext to /root/nltk_data...\n",
            "       |   Unzipping corpora/webtext.zip.\n",
            "       | Downloading package wordnet to /root/nltk_data...\n",
            "       |   Unzipping corpora/wordnet.zip.\n",
            "       | Downloading package wordnet_ic to /root/nltk_data...\n",
            "       |   Unzipping corpora/wordnet_ic.zip.\n",
            "       | Downloading package words to /root/nltk_data...\n",
            "       |   Unzipping corpora/words.zip.\n",
            "       | Downloading package ycoe to /root/nltk_data...\n",
            "       |   Unzipping corpora/ycoe.zip.\n",
            "       | Downloading package rslp to /root/nltk_data...\n",
            "       |   Unzipping stemmers/rslp.zip.\n",
            "       | Downloading package maxent_treebank_pos_tagger to\n",
            "       |     /root/nltk_data...\n",
            "       |   Unzipping taggers/maxent_treebank_pos_tagger.zip.\n",
            "       | Downloading package universal_tagset to /root/nltk_data...\n",
            "       |   Unzipping taggers/universal_tagset.zip.\n",
            "       | Downloading package maxent_ne_chunker to /root/nltk_data...\n",
            "       |   Unzipping chunkers/maxent_ne_chunker.zip.\n",
            "       | Downloading package punkt to /root/nltk_data...\n",
            "       |   Unzipping tokenizers/punkt.zip.\n",
            "       | Downloading package book_grammars to /root/nltk_data...\n",
            "       |   Unzipping grammars/book_grammars.zip.\n",
            "       | Downloading package sample_grammars to /root/nltk_data...\n",
            "       |   Unzipping grammars/sample_grammars.zip.\n",
            "       | Downloading package spanish_grammars to /root/nltk_data...\n",
            "       |   Unzipping grammars/spanish_grammars.zip.\n",
            "       | Downloading package basque_grammars to /root/nltk_data...\n",
            "       |   Unzipping grammars/basque_grammars.zip.\n",
            "       | Downloading package large_grammars to /root/nltk_data...\n",
            "       |   Unzipping grammars/large_grammars.zip.\n",
            "       | Downloading package tagsets to /root/nltk_data...\n",
            "       |   Unzipping help/tagsets.zip.\n",
            "       | Downloading package snowball_data to /root/nltk_data...\n",
            "       | Downloading package bllip_wsj_no_aux to /root/nltk_data...\n",
            "       |   Unzipping models/bllip_wsj_no_aux.zip.\n",
            "       | Downloading package word2vec_sample to /root/nltk_data...\n",
            "       |   Unzipping models/word2vec_sample.zip.\n",
            "       | Downloading package panlex_swadesh to /root/nltk_data...\n",
            "       | Downloading package mte_teip5 to /root/nltk_data...\n",
            "       |   Unzipping corpora/mte_teip5.zip.\n",
            "       | Downloading package averaged_perceptron_tagger to\n",
            "       |     /root/nltk_data...\n",
            "       |   Unzipping taggers/averaged_perceptron_tagger.zip.\n",
            "       | Downloading package averaged_perceptron_tagger_ru to\n",
            "       |     /root/nltk_data...\n",
            "       |   Unzipping taggers/averaged_perceptron_tagger_ru.zip.\n",
            "       | Downloading package perluniprops to /root/nltk_data...\n",
            "       |   Unzipping misc/perluniprops.zip.\n",
            "       | Downloading package nonbreaking_prefixes to\n",
            "       |     /root/nltk_data...\n",
            "       |   Unzipping corpora/nonbreaking_prefixes.zip.\n",
            "       | Downloading package vader_lexicon to /root/nltk_data...\n",
            "       | Downloading package porter_test to /root/nltk_data...\n",
            "       |   Unzipping stemmers/porter_test.zip.\n",
            "       | Downloading package wmt15_eval to /root/nltk_data...\n",
            "       |   Unzipping models/wmt15_eval.zip.\n",
            "       | Downloading package mwa_ppdb to /root/nltk_data...\n",
            "       |   Unzipping misc/mwa_ppdb.zip.\n",
            "       | \n",
            "     Done downloading collection all\n",
            "\n",
            "---------------------------------------------------------------------------\n",
            "    d) Download   l) List    u) Update   c) Config   h) Help   q) Quit\n",
            "---------------------------------------------------------------------------\n",
            "Downloader> q\n"
          ],
          "name": "stdout"
        },
        {
          "output_type": "execute_result",
          "data": {
            "text/plain": [
              "True"
            ]
          },
          "metadata": {
            "tags": []
          },
          "execution_count": 3
        }
      ]
    },
    {
      "cell_type": "markdown",
      "metadata": {
        "id": "ALDdHoQ1bluv"
      },
      "source": [
        "La lectura de los datos va a depender del formato de los datos, veamos unicamente como extraer los datos de texto en formato html porque, el proceso que le sigue se repite para el formato txt o una entrada directa tipo caracter."
      ]
    },
    {
      "cell_type": "code",
      "metadata": {
        "id": "SYZjXAtxcG8P"
      },
      "source": [
        "import urllib.request #para abrir el link\n",
        "\n",
        "response = urllib.request.urlopen('http://php.net')\n",
        "html = response.read() #leer los datos\n",
        "#print(html)"
      ],
      "execution_count": null,
      "outputs": []
    },
    {
      "cell_type": "code",
      "metadata": {
        "id": "18nl0knxbLIn"
      },
      "source": [
        "from bs4 import BeautifulSoup #para limpiar texto, elimina etiquetas html\n",
        "\n",
        "soup = BeautifulSoup(html,\"html5lib\") #limpiar texto\n",
        "text = soup.get_text(strip=True)\n",
        "#print (text)"
      ],
      "execution_count": null,
      "outputs": []
    },
    {
      "cell_type": "markdown",
      "metadata": {
        "id": "TMg90U2ZWOdu"
      },
      "source": [
        "Después de tener los datos empezamos con el tokenizador *punkt* que divide un texto en una lista de oraciones. Esto nos lleva a nuestro primer ejemplo de discusión de texto: división de oraciones."
      ]
    },
    {
      "cell_type": "code",
      "metadata": {
        "id": "zI94mFe8WOdx",
        "outputId": "e8e29c42-1203-4c3e-b371-df4a4ec13899",
        "colab": {
          "base_uri": "https://localhost:8080/",
          "height": 72
        }
      },
      "source": [
        "nltk.download('punkt')"
      ],
      "execution_count": null,
      "outputs": [
        {
          "output_type": "stream",
          "text": [
            "[nltk_data] Downloading package punkt to /root/nltk_data...\n",
            "[nltk_data]   Package punkt is already up-to-date!\n"
          ],
          "name": "stdout"
        },
        {
          "output_type": "execute_result",
          "data": {
            "text/plain": [
              "True"
            ]
          },
          "metadata": {
            "tags": []
          },
          "execution_count": 6
        }
      ]
    },
    {
      "cell_type": "markdown",
      "metadata": {
        "id": "AX3z5cggWOd9"
      },
      "source": [
        "### División de oraciones\n",
        "La mejor manera de analizar un texto es dividiendolo en oraciones. En conversaciones de la vida real, también calculamos información a nivel de oración analizando palabras conjuntas. La división por oraciones tambien se llama tokenización por oraciones."
      ]
    },
    {
      "cell_type": "code",
      "metadata": {
        "id": "6l7wGaLwWOd-"
      },
      "source": [
        "sampleString = \"Let’s make this our sample paragraph. It will split at the end of a sentence marker, like a period. It even knows that the period in Mr. Jones is not the end. Try it out!\""
      ],
      "execution_count": null,
      "outputs": []
    },
    {
      "cell_type": "code",
      "metadata": {
        "id": "3xKpzC35WOeK"
      },
      "source": [
        "from nltk.tokenize import sent_tokenize"
      ],
      "execution_count": null,
      "outputs": []
    },
    {
      "cell_type": "code",
      "metadata": {
        "id": "nYa97BAWWOea",
        "outputId": "47d03186-7150-4a85-8510-ee037f0bd0da",
        "colab": {
          "base_uri": "https://localhost:8080/",
          "height": 55
        }
      },
      "source": [
        "tokenized_sent = sent_tokenize(sampleString)\n",
        "print(tokenized_sent)"
      ],
      "execution_count": null,
      "outputs": [
        {
          "output_type": "stream",
          "text": [
            "['Let’s make this our sample paragraph.', 'It will split at the end of a sentence marker, like a period.', 'It even knows that the period in Mr. Jones is not the end.', 'Try it out!']\n"
          ],
          "name": "stdout"
        }
      ]
    },
    {
      "cell_type": "markdown",
      "metadata": {
        "id": "Q433EHqOWOet"
      },
      "source": [
        "### Tokenización\n",
        "Un token es la unidad de texto más pequeña que una máquina puede procesar. Por lo tanto, cada fragmento de texto debe ser tokenizado antes de poder ejecutar programas de lenguaje natural con él. A veces, tiene sentido que la unidad más pequeña sea una palabra o una letra. Si bien es posible realizar este proceso manumelte con la función split(), que busca espacios como delimitadores y toma las palabras a su alrededor,\n",
        "\n",
        ">*tokens = msg.split #convertimos el texto en tokens*\n",
        "\n",
        "La libreria NLTK nos ofrece una función no solo para obtener los tokens por oración sino tambien por palabras."
      ]
    },
    {
      "cell_type": "code",
      "metadata": {
        "id": "8I8T-cVnWOew",
        "outputId": "1f65c136-a51b-4c4e-c4c9-3e0dd2ef340c",
        "colab": {
          "base_uri": "https://localhost:8080/",
          "height": 35
        }
      },
      "source": [
        "#función mas simple: split()\n",
        "msg = \"Hey everyone! The party starts in 10mins. Be there ASAP!\"\n",
        "print(msg.split())"
      ],
      "execution_count": null,
      "outputs": [
        {
          "output_type": "stream",
          "text": [
            "['Hey', 'everyone!', 'The', 'party', 'starts', 'in', '10mins.', 'Be', 'there', 'ASAP!']\n"
          ],
          "name": "stdout"
        }
      ]
    },
    {
      "cell_type": "code",
      "metadata": {
        "id": "Wa9LXCkJWOfC"
      },
      "source": [
        "#función de NLTK: word_tokenize\n",
        "from nltk.tokenize import word_tokenize, regexp_tokenize"
      ],
      "execution_count": null,
      "outputs": []
    },
    {
      "cell_type": "code",
      "metadata": {
        "id": "LZd7ElUEWOfP",
        "outputId": "18e4fb7b-7c9a-414a-ffdb-76263404f76e",
        "colab": {
          "base_uri": "https://localhost:8080/",
          "height": 256
        }
      },
      "source": [
        "word_tokenize(msg)"
      ],
      "execution_count": null,
      "outputs": [
        {
          "output_type": "execute_result",
          "data": {
            "text/plain": [
              "['Hey',\n",
              " 'everyone',\n",
              " '!',\n",
              " 'The',\n",
              " 'party',\n",
              " 'starts',\n",
              " 'in',\n",
              " '10mins',\n",
              " '.',\n",
              " 'Be',\n",
              " 'there',\n",
              " 'ASAP',\n",
              " '!']"
            ]
          },
          "metadata": {
            "tags": []
          },
          "execution_count": 20
        }
      ]
    },
    {
      "cell_type": "markdown",
      "metadata": {
        "id": "AhE5OqGQWOfa"
      },
      "source": [
        "NLTK nos ofrece una función incluso mas avanzada *regex_tokenize* que se personaliza para obtener resultados mas precisos, si comparamos con la anterior, vemos que esta función es capaz de eliminar algunos signos de puntuación que se habian considerado como palabras."
      ]
    },
    {
      "cell_type": "code",
      "metadata": {
        "id": "7sQnvRwmWOfc",
        "outputId": "ad9dd53d-7180-4be1-de5d-a78d81f3744f",
        "colab": {
          "base_uri": "https://localhost:8080/",
          "height": 201
        }
      },
      "source": [
        "regexp_tokenize(msg, pattern=\"\\w+\")"
      ],
      "execution_count": null,
      "outputs": [
        {
          "output_type": "execute_result",
          "data": {
            "text/plain": [
              "['Hey',\n",
              " 'everyone',\n",
              " 'The',\n",
              " 'party',\n",
              " 'starts',\n",
              " 'in',\n",
              " '10mins',\n",
              " 'Be',\n",
              " 'there',\n",
              " 'ASAP']"
            ]
          },
          "metadata": {
            "tags": []
          },
          "execution_count": 21
        }
      ]
    },
    {
      "cell_type": "markdown",
      "metadata": {
        "id": "DQy_vmPbWOfl"
      },
      "source": [
        "### Derivación\n",
        "El proceso de derivación consiste en recortar la palabra de forma que se pueda obtener su raiz. Por ejemplo, si se toma la palabra “running”, se podrá cortar para obtener la raiz “run”."
      ]
    },
    {
      "cell_type": "code",
      "metadata": {
        "id": "bJnDoVEQWOfn",
        "outputId": "20db8eac-b3f3-4cbd-9614-cdfb748c1d70",
        "colab": {
          "base_uri": "https://localhost:8080/",
          "height": 36
        }
      },
      "source": [
        "from nltk.stem import PorterStemmer #algoritmo PorterStemmer\n",
        "\n",
        "porter = PorterStemmer()\n",
        "porter.stem(\"running\")"
      ],
      "execution_count": null,
      "outputs": [
        {
          "output_type": "execute_result",
          "data": {
            "application/vnd.google.colaboratory.intrinsic+json": {
              "type": "string"
            },
            "text/plain": [
              "'run'"
            ]
          },
          "metadata": {
            "tags": []
          },
          "execution_count": 22
        }
      ]
    },
    {
      "cell_type": "code",
      "metadata": {
        "id": "AFybDd2NWOf-",
        "outputId": "17e4d29b-7f05-4b7e-beee-24d8087d94f6",
        "colab": {
          "base_uri": "https://localhost:8080/",
          "height": 36
        }
      },
      "source": [
        "from nltk.stem import LancasterStemmer #algoritmo LancasterStemmer\n",
        "\n",
        "lancaster = LancasterStemmer() \n",
        "lancaster.stem(\"eating\")"
      ],
      "execution_count": null,
      "outputs": [
        {
          "output_type": "execute_result",
          "data": {
            "application/vnd.google.colaboratory.intrinsic+json": {
              "type": "string"
            },
            "text/plain": [
              "'eat'"
            ]
          },
          "metadata": {
            "tags": []
          },
          "execution_count": 23
        }
      ]
    },
    {
      "cell_type": "code",
      "metadata": {
        "id": "8meHqBL5WOgW",
        "outputId": "3c851e31-62f5-4866-a209-27076ab9cca5",
        "colab": {
          "base_uri": "https://localhost:8080/",
          "height": 55
        }
      },
      "source": [
        "from nltk.stem.snowball import SnowballStemmer #este algoritmo se usa para palabras en varios idiomas\n",
        "print(SnowballStemmer.languages)"
      ],
      "execution_count": null,
      "outputs": [
        {
          "output_type": "stream",
          "text": [
            "('arabic', 'danish', 'dutch', 'english', 'finnish', 'french', 'german', 'hungarian', 'italian', 'norwegian', 'porter', 'portuguese', 'romanian', 'russian', 'spanish', 'swedish')\n"
          ],
          "name": "stdout"
        }
      ]
    },
    {
      "cell_type": "code",
      "metadata": {
        "id": "PDRt8dVnlNrc",
        "outputId": "4dbf1097-b105-4624-bf9c-ebda5a5f6fea",
        "colab": {
          "base_uri": "https://localhost:8080/",
          "height": 36
        }
      },
      "source": [
        "snowball = SnowballStemmer(\"english\")\n",
        "snowball.stem(\"having\")"
      ],
      "execution_count": null,
      "outputs": [
        {
          "output_type": "execute_result",
          "data": {
            "application/vnd.google.colaboratory.intrinsic+json": {
              "type": "string"
            },
            "text/plain": [
              "'have'"
            ]
          },
          "metadata": {
            "tags": []
          },
          "execution_count": 25
        }
      ]
    },
    {
      "cell_type": "code",
      "metadata": {
        "id": "s4PBEzakWOgn",
        "outputId": "8814acbd-39dc-4920-cad1-ac9641ff14d0",
        "colab": {
          "base_uri": "https://localhost:8080/",
          "height": 36
        }
      },
      "source": [
        "snowball = SnowballStemmer(\"spanish\")\n",
        "snowball.stem(\"comiendo\")"
      ],
      "execution_count": null,
      "outputs": [
        {
          "output_type": "execute_result",
          "data": {
            "application/vnd.google.colaboratory.intrinsic+json": {
              "type": "string"
            },
            "text/plain": [
              "'com'"
            ]
          },
          "metadata": {
            "tags": []
          },
          "execution_count": 26
        }
      ]
    },
    {
      "cell_type": "markdown",
      "metadata": {
        "id": "4Gv_JVcYWOg0"
      },
      "source": [
        "### Lematización\n",
        "Como vimos, el resultado no es muy bueno, por lo que se debe recurrir a una función mas avanzada, la lematización. La lematización en lugar de solo seguir ciertas reglas, tambien toma en cuenta el contexto y parte del discurso para determinar el lema, o la raíz de la palabra, y aunque el resultado sea un sinonimo, sabemos que el significado es el mismo.\n",
        "\n",
        "Por otro lado, aaunque la lematización es más lenta que la derivación, tambien resulta más precisa y permite encontrar diferentes tipos de palabras, como verbos, sustantivos, adjetivos y adverbios."
      ]
    },
    {
      "cell_type": "code",
      "metadata": {
        "id": "J7LmA3BSWOg5",
        "outputId": "3a7379e8-ee3b-4534-838d-6ff91f04f7b9",
        "colab": {
          "base_uri": "https://localhost:8080/",
          "height": 54
        }
      },
      "source": [
        "nltk.download('wordnet')\n",
        "from nltk.stem import WordNetLemmatizer\n",
        "lem = WordNetLemmatizer()"
      ],
      "execution_count": null,
      "outputs": [
        {
          "output_type": "stream",
          "text": [
            "[nltk_data] Downloading package wordnet to /root/nltk_data...\n",
            "[nltk_data]   Package wordnet is already up-to-date!\n"
          ],
          "name": "stdout"
        }
      ]
    },
    {
      "cell_type": "code",
      "metadata": {
        "id": "5oqZBM_nWOhD",
        "outputId": "bec206da-1929-47a6-c43d-c7b4979dd53a",
        "colab": {
          "base_uri": "https://localhost:8080/",
          "height": 54
        }
      },
      "source": [
        "print(lem.lemmatize(\"increases\")) #lematización\n",
        "print(porter.stem(\"increases\")) #derivación"
      ],
      "execution_count": null,
      "outputs": [
        {
          "output_type": "stream",
          "text": [
            "increase\n",
            "increas\n"
          ],
          "name": "stdout"
        }
      ]
    },
    {
      "cell_type": "code",
      "metadata": {
        "id": "7eztnaBgmwuI",
        "outputId": "21940847-0313-4639-990b-949ec223b471",
        "colab": {
          "base_uri": "https://localhost:8080/",
          "height": 90
        }
      },
      "source": [
        "#para encontrar otras palabras\n",
        "print(lem.lemmatize('playing', pos=\"v\")) #verbos\n",
        "print(lem.lemmatize('playing', pos=\"n\")) #sustantivos\n",
        "print(lem.lemmatize('playing', pos=\"a\")) #adjetivos\n",
        "print(lem.lemmatize('playing', pos=\"r\")) #adverbios"
      ],
      "execution_count": null,
      "outputs": [
        {
          "output_type": "stream",
          "text": [
            "play\n",
            "playing\n",
            "playing\n",
            "playing\n"
          ],
          "name": "stdout"
        }
      ]
    },
    {
      "cell_type": "markdown",
      "metadata": {
        "id": "DDwof6AMu3co"
      },
      "source": [
        "### ¿Qué es la Wordnet?\n",
        "Es una base de datos léxica que agrupa palabras en conjuntos de sinónimos, definiciones cortas y generales y almacena las relaciones semánticas entre los conjuntos de sinónimos, es usado para desambiguar el significado de las palabras, y hacer para la maquina más facil su tarea."
      ]
    },
    {
      "cell_type": "code",
      "metadata": {
        "id": "KsxSLxn0u3pe",
        "outputId": "b4fd8e30-03f3-468d-ff03-ac42e67ccde0",
        "colab": {
          "base_uri": "https://localhost:8080/",
          "height": 54
        }
      },
      "source": [
        "from nltk.corpus import wordnet as wn\n",
        "\n",
        "syn = wn.synsets(\"pain\")\n",
        "\n",
        "print(syn[0].definition()) #incluye definiciones\n",
        "print(syn[0].examples()) #incluye ejemplos"
      ],
      "execution_count": null,
      "outputs": [
        {
          "output_type": "stream",
          "text": [
            "a symptom of some physical hurt or disorder\n",
            "['the patient developed severe pain and distension']\n"
          ],
          "name": "stdout"
        }
      ]
    },
    {
      "cell_type": "code",
      "metadata": {
        "id": "xKY3xG8Qu_CF",
        "outputId": "dc11cc67-b423-4de6-d9a1-b188177fc82e",
        "colab": {
          "base_uri": "https://localhost:8080/",
          "height": 55
        }
      },
      "source": [
        "#sinonimos\n",
        "synonyms = []\n",
        "\n",
        "for syn in wn.synsets('computer'):\n",
        "    for lemma in syn.lemmas():\n",
        "        synonyms.append(lemma.name())\n",
        "\n",
        "print(synonyms)"
      ],
      "execution_count": null,
      "outputs": [
        {
          "output_type": "stream",
          "text": [
            "['computer', 'computing_machine', 'computing_device', 'data_processor', 'electronic_computer', 'information_processing_system', 'calculator', 'reckoner', 'figurer', 'estimator', 'computer']\n"
          ],
          "name": "stdout"
        }
      ]
    },
    {
      "cell_type": "code",
      "metadata": {
        "id": "E_yozOohvA5O",
        "outputId": "3567d970-a8c9-4c47-d4d6-75c328523367",
        "colab": {
          "base_uri": "https://localhost:8080/",
          "height": 35
        }
      },
      "source": [
        "#antonimos\n",
        "antonyms = []\n",
        "\n",
        "for syn in wn.synsets(\"small\"):\n",
        "    for l in syn.lemmas():\n",
        "        if l.antonyms():\n",
        "            antonyms.append(l.antonyms()[0].name())\n",
        "\n",
        "print(antonyms)"
      ],
      "execution_count": null,
      "outputs": [
        {
          "output_type": "stream",
          "text": [
            "['large', 'big', 'big']\n"
          ],
          "name": "stdout"
        }
      ]
    },
    {
      "cell_type": "markdown",
      "metadata": {
        "id": "ucbFKolKl9DZ"
      },
      "source": [
        "#### Las-wordnet\n",
        "LAS-WordNet tiene un cubrimiento mayor del lenguaje que otras versiones de WordNet para el español, para obtenerla, debemos descargar el recurso con el identificador “omw” y el nombre “Open Multilingual Wordnet”. Luego, debemos descargar el archivo wn-data-las.zip, que debe descomprimirse para obtener el archivo wn-data-las.tab. En computadoras con sistema operativo Windows se debe ubicar el siguiente directorio:\n",
        "\n",
        "C:\\Users\\\\AppData\\Roaming\\nltk_data\\corpora\\omw"
      ]
    },
    {
      "cell_type": "code",
      "metadata": {
        "id": "XcAlfDjrl9w9",
        "outputId": "1196dfaa-7971-4b72-93dd-653c20f9fdf5",
        "colab": {
          "base_uri": "https://localhost:8080/",
          "height": 72
        }
      },
      "source": [
        "#Configuración para utilizar los datos con nltk\n",
        "nltk.download(\"omw\")"
      ],
      "execution_count": null,
      "outputs": [
        {
          "output_type": "stream",
          "text": [
            "[nltk_data] Downloading package omw to /root/nltk_data...\n",
            "[nltk_data]   Package omw is already up-to-date!\n"
          ],
          "name": "stdout"
        },
        {
          "output_type": "execute_result",
          "data": {
            "text/plain": [
              "True"
            ]
          },
          "metadata": {
            "tags": []
          },
          "execution_count": 33
        }
      ]
    },
    {
      "cell_type": "markdown",
      "metadata": {
        "id": "xl1PCBYhnWH8"
      },
      "source": [
        "Links para datos en español,\n",
        "- http://timm.ujaen.es/recursos/spanish-wordnet-3-0/\n",
        "- https://www.datos.gov.co/api/views/8z8d-85m7/files/da7b9399-79b4-4069-8e2f-44ca4a4eb359?download=true&filename=wn-data-las.zip\n",
        "- http://lod.iula.upf.edu/resources/metadata-WordnetLMF-ES"
      ]
    },
    {
      "cell_type": "code",
      "metadata": {
        "id": "-rYdnbfOl9T_",
        "outputId": "31d7bba2-167d-4392-830a-21e5a8465da9",
        "colab": {
          "base_uri": "https://localhost:8080/",
          "height": 246
        }
      },
      "source": [
        "#Bajar los datos de Las-wordnet\n",
        "zip_path = tf.keras.utils.get_file(\n",
        "    origin='https://www.datos.gov.co/api/views/8z8d-85m7/files/da7b9399-79b4-4069-8e2f-44ca4a4eb359?download=true&filename=wn-data-las.zip',\n",
        "    fname='wn-data-las.zip',\n",
        "    extract=True)\n",
        "#ruta de donde quedaron guardados los datos\n",
        "wn_data_las, _ = os.path.splitext(zip_path)"
      ],
      "execution_count": 1,
      "outputs": [
        {
          "output_type": "error",
          "ename": "NameError",
          "evalue": "ignored",
          "traceback": [
            "\u001b[0;31m---------------------------------------------------------------------------\u001b[0m",
            "\u001b[0;31mNameError\u001b[0m                                 Traceback (most recent call last)",
            "\u001b[0;32m<ipython-input-1-22773eec111b>\u001b[0m in \u001b[0;36m<module>\u001b[0;34m()\u001b[0m\n\u001b[1;32m      1\u001b[0m \u001b[0;31m#Bajar los datos de Las-wordnet\u001b[0m\u001b[0;34m\u001b[0m\u001b[0;34m\u001b[0m\u001b[0;34m\u001b[0m\u001b[0m\n\u001b[0;32m----> 2\u001b[0;31m zip_path = tf.keras.utils.get_file(\n\u001b[0m\u001b[1;32m      3\u001b[0m     \u001b[0morigin\u001b[0m\u001b[0;34m=\u001b[0m\u001b[0;34m'https://repositori.upf.edu/bitstream/handle/10230/22923/WordnetLMF-ES.rar?sequence=1&isAllowed=y'\u001b[0m\u001b[0;34m,\u001b[0m\u001b[0;34m\u001b[0m\u001b[0;34m\u001b[0m\u001b[0m\n\u001b[1;32m      4\u001b[0m     \u001b[0mfname\u001b[0m\u001b[0;34m=\u001b[0m\u001b[0;34m'wn-data-las.rar'\u001b[0m\u001b[0;34m,\u001b[0m\u001b[0;34m\u001b[0m\u001b[0;34m\u001b[0m\u001b[0m\n\u001b[1;32m      5\u001b[0m     extract=True)\n",
            "\u001b[0;31mNameError\u001b[0m: name 'tf' is not defined"
          ]
        }
      ]
    },
    {
      "cell_type": "code",
      "metadata": {
        "id": "MDWBV3aEhgLC"
      },
      "source": [
        "wn_data_las"
      ],
      "execution_count": null,
      "outputs": []
    },
    {
      "cell_type": "markdown",
      "metadata": {
        "id": "irByKZY0hgLJ"
      },
      "source": [
        "Luego se debe crear un subdirectorio en *C:\\Users\\\\AppData\\Roaming\\nltk_data\\corpora\\omw* con el nombre “las” y moverse a ese subdirectorio usando los siguientes comandos:\n",
        "\n",
        "> md las \n",
        "\n",
        "> cd las\n",
        "\n",
        "Luego se debe copiar el archivo wn-data-las.tab en ese directorio.\n",
        "\n",
        "> copy c:\\temporal\\wn-data-las.tab"
      ]
    },
    {
      "cell_type": "code",
      "metadata": {
        "id": "QYdk54Mpl91C"
      },
      "source": [
        "#deberia funcionar cuando esté todo descargado\n",
        "wn.synsets(\"casa\",lang=\"las\")"
      ],
      "execution_count": null,
      "outputs": []
    },
    {
      "cell_type": "markdown",
      "metadata": {
        "id": "EbDHWAOOWOhM"
      },
      "source": [
        "### Eliminación de palabras de parada\n",
        "Las palabras de parada son palabras de uso común que generalmente se ignoran debido a sus múltiples ocurrencias. La mayor parte de estas palabras son artículos y preposiciones en su respectivo idioma, como \"the\", \"a\", \"in\" en inglés, o \"de\", \"un\", \"en\" en español. Estas palabras pueden terminar ocupando demasiado espacio o consumiendo demasiado tiempo."
      ]
    },
    {
      "cell_type": "code",
      "metadata": {
        "id": "bYUNWFFqWOhO",
        "outputId": "508c5317-4e66-4f86-d843-84e34c738039",
        "colab": {
          "base_uri": "https://localhost:8080/",
          "height": 54
        }
      },
      "source": [
        "nltk.download('stopwords')\n",
        "from nltk.corpus import stopwords"
      ],
      "execution_count": null,
      "outputs": [
        {
          "output_type": "stream",
          "text": [
            "[nltk_data] Downloading package stopwords to /root/nltk_data...\n",
            "[nltk_data]   Package stopwords is already up-to-date!\n"
          ],
          "name": "stdout"
        }
      ]
    },
    {
      "cell_type": "code",
      "metadata": {
        "id": "YOxTgto1WOhU",
        "outputId": "3fb8ce96-5014-4968-a29b-312b4335c5a2",
        "colab": {
          "base_uri": "https://localhost:8080/",
          "height": 55
        }
      },
      "source": [
        "#eliminación de palabras de parada en inglés\n",
        "list = stopwords.words('english')\n",
        "paragraph = \"This is a long paragraph of text. Somtimes important words like Apple and Machine Learning show up. Other words that are not important get removed.\"\n",
        "postPara = [word for word in paragraph.split() if word not in list]\n",
        "print(postPara)"
      ],
      "execution_count": null,
      "outputs": [
        {
          "output_type": "stream",
          "text": [
            "['This', 'long', 'paragraph', 'text.', 'Somtimes', 'important', 'words', 'like', 'Apple', 'Machine', 'Learning', 'show', 'up.', 'Other', 'words', 'important', 'get', 'removed.']\n"
          ],
          "name": "stdout"
        }
      ]
    },
    {
      "cell_type": "markdown",
      "metadata": {
        "id": "mtiVUAitWOhg"
      },
      "source": [
        "Usaremos el siguiente texto para eliminar palabras de parada en español:\n",
        "> Al despuntar la aurora, hazte estas consideraciones previas: me encontraré con un indiscreto, un ingrato, un insolente, un mentiroso, un envidioso, un insociable. Todo eso les acontece por ignorancia de los bienes y de los males. Pero yo, que he observado que la naturaleza del bien es lo bello, y que la del mal es lo vergonzoso, y que la naturaleza del pecador mismo es pariente de la mía, porque participa, no de la misma sangre o de la misma semilla, sino de la inteligencia y de una porción de la divinidad, no puedo recibir daño de ninguno de ellos, pues ninguno me cubrirá de vergüenza; ni puedo enfadarme con mi pariente ni odiarle. Pues hemos nacido para colaborar, al igual que los pies, las manos, los párpados, las hileras de dientes, superiores e inferiores. Obrar, pues, como adversarios los unos de los otros es contrario a la naturaleza. Y es actuar como adversario el hecho de manifestar indignación y repulsa.\n",
        "*Meditaciones, Marco Aurelio*"
      ]
    },
    {
      "cell_type": "code",
      "metadata": {
        "id": "Rv8DMpxzWOhg",
        "scrolled": true,
        "outputId": "607b66f7-2a70-4e7e-c993-d36d2dece987",
        "colab": {
          "base_uri": "https://localhost:8080/",
          "height": 55
        }
      },
      "source": [
        "#eliminación de palabras de parada en español\n",
        "list = stopwords.words('spanish')\n",
        "paragraph = \"Al despuntar la aurora, hazte estas consideraciones previas: me encontraré con un indiscreto, un ingrato, un insolente, un mentiroso, un envidioso, un insociable. Todo eso les acontece por ignorancia de los bienes y de los males. Pero yo, que he observado que la naturaleza del bien es lo bello, y que la del mal es lo vergonzoso, y que la naturaleza del pecador mismo es pariente de la mía, porque participa, no de la misma sangre o de la misma semilla, sino de la inteligencia y de una porción de la divinidad, no puedo recibir daño de ninguno de ellos, pues ninguno me cubrirá de vergüenza; ni puedo enfadarme con mi pariente ni odiarle. Pues hemos nacido para colaborar, al igual que los pies, las manos, los párpados, las hileras de dientes, superiores e inferiores. Obrar, pues, como adversarios los unos de los otros es contrario a la naturaleza. Y es actuar como adversario el hecho de manifestar indignación y repulsa\"\n",
        "postPara = [word for word in paragraph.split() if word not in list]\n",
        "print(postPara)"
      ],
      "execution_count": null,
      "outputs": [
        {
          "output_type": "stream",
          "text": [
            "['Al', 'despuntar', 'aurora,', 'hazte', 'consideraciones', 'previas:', 'encontraré', 'indiscreto,', 'ingrato,', 'insolente,', 'mentiroso,', 'envidioso,', 'insociable.', 'Todo', 'acontece', 'ignorancia', 'bienes', 'males.', 'Pero', 'yo,', 'observado', 'naturaleza', 'bien', 'bello,', 'mal', 'vergonzoso,', 'naturaleza', 'pecador', 'mismo', 'pariente', 'mía,', 'participa,', 'misma', 'sangre', 'misma', 'semilla,', 'sino', 'inteligencia', 'porción', 'divinidad,', 'puedo', 'recibir', 'daño', 'ninguno', 'ellos,', 'pues', 'ninguno', 'cubrirá', 'vergüenza;', 'puedo', 'enfadarme', 'pariente', 'odiarle.', 'Pues', 'nacido', 'colaborar,', 'igual', 'pies,', 'manos,', 'párpados,', 'hileras', 'dientes,', 'superiores', 'inferiores.', 'Obrar,', 'pues,', 'adversarios', 'contrario', 'naturaleza.', 'Y', 'actuar', 'adversario', 'hecho', 'manifestar', 'indignación', 'repulsa']\n"
          ],
          "name": "stdout"
        }
      ]
    },
    {
      "cell_type": "markdown",
      "metadata": {
        "id": "uW17EppBWOho"
      },
      "source": [
        "## Ejemplo en español\n",
        "Haremos un ejemplo para discución de texto y limpieza con NLTK, utilizando lo anterior visto, y añadiremos la limpieza de los tokens con las palabras de parada y los n-gramas. Muchas veces es interesante saber que tan probable es una sentencia (o que tan común es), con un *n_grama* podemos la frecuencia de las palabras en un texto."
      ]
    },
    {
      "cell_type": "code",
      "metadata": {
        "id": "ocaOdju7WOhr"
      },
      "source": [
        "#texto en español a utilizar\n",
        "sentence = \"Tomando entonces la palabra Adimanto, dijo:–¿Qué responderás, Sócrates, si se te objeta, que tus guerreros no son muy dichosos, y esto por falta suya, pues son realmente dueños del Estado, y sin embargo están privados de todas las ventajas de la sociedad, ``no poseyendo como los demás, ni tierras, ni casas grandes, bellas y bien amuebladas; no pudiendo ni sacrificar a los dioses en una habitación doméstica, ni tener donde recibir huéspedes, ni poseer oro y plata, y en fin, nada de lo que, en opinión de los hombres, sirve para hacer una vida cómoda y agradable? En verdad se dirá, que los tratas como a extranjeros, que están a sueldo del Estado sin otro destino que el de guardarle.–Añade, le dije yo, que su sueldo sólo consiste en el alimento, y además de esto que no tienen paga como las tropas ordinarias, y por lo tanto, que no pueden ni salir de los límites del Estado, ni viajar, ni regalar a libertinas, ni disponer de nada a su gusto, como hacen los ricos y los que presumen de dichosos. ¿Por qué pasas en silencio estos capítulos de acusación y otros muchos semejantes?–Ãšnelos, si quieres, a lo que he dicho.–Me preguntas ¿qué tengo que responder a todo esto?–Sí.–Sin separarnos del camino que hasta aquí hemos seguido, creo que encontraremos en nuestro mismo plan recursos para justificarnos. Por lo pronto, diremos que no sería una cosa sorprendente, que la condición de nuestros guerreros fuese muy dichosa a pesar de todos estos inconvenientes.\""
      ],
      "execution_count": null,
      "outputs": []
    },
    {
      "cell_type": "code",
      "metadata": {
        "id": "bsvxPSvZWOhz",
        "outputId": "9b1cf1d6-475e-4135-dc8e-2171b6e13715",
        "colab": {
          "base_uri": "https://localhost:8080/",
          "height": 146
        }
      },
      "source": [
        "#derivación\n",
        "sentence = porter.stem(sentence)\n",
        "sentence"
      ],
      "execution_count": null,
      "outputs": [
        {
          "output_type": "execute_result",
          "data": {
            "application/vnd.google.colaboratory.intrinsic+json": {
              "type": "string"
            },
            "text/plain": [
              "'tomando entonces la palabra adimanto, dijo:–¿qué responderás, sócrates, si se te objeta, que tus guerreros no son muy dichosos, y esto por falta suya, pues son realmente dueños del estado, y sin embargo están privados de todas las ventajas de la sociedad, ``no poseyendo como los demás, ni tierras, ni casas grandes, bellas y bien amuebladas; no pudiendo ni sacrificar a los dioses en una habitación doméstica, ni tener donde recibir huéspedes, ni poseer oro y plata, y en fin, nada de lo que, en opinión de los hombres, sirve para hacer una vida cómoda y agradable? en verdad se dirá, que los tratas como a extranjeros, que están a sueldo del estado sin otro destino que el de guardarle.–añade, le dije yo, que su sueldo sólo consiste en el alimento, y además de esto que no tienen paga como las tropas ordinarias, y por lo tanto, que no pueden ni salir de los límites del estado, ni viajar, ni regalar a libertinas, ni disponer de nada a su gusto, como hacen los ricos y los que presumen de dichosos. ¿por qué pasas en silencio estos capítulos de acusación y otros muchos semejantes?–ãšnelos, si quieres, a lo que he dicho.–me preguntas ¿qué tengo que responder a todo esto?–sí.–sin separarnos del camino que hasta aquí hemos seguido, creo que encontraremos en nuestro mismo plan recursos para justificarnos. por lo pronto, diremos que no sería una cosa sorprendente, que la condición de nuestros guerreros fuese muy dichosa a pesar de todos estos inconvenientes.'"
            ]
          },
          "metadata": {
            "tags": []
          },
          "execution_count": 40
        }
      ]
    },
    {
      "cell_type": "code",
      "metadata": {
        "id": "jNQUQAtiWOiB"
      },
      "source": [
        "#tokenización\n",
        "tokens = word_tokenize(sentence)"
      ],
      "execution_count": null,
      "outputs": []
    },
    {
      "cell_type": "code",
      "metadata": {
        "id": "ip0MSk4RznpV",
        "outputId": "ec52a71b-525a-4ab4-8124-4b61ec25068a",
        "colab": {
          "base_uri": "https://localhost:8080/",
          "height": 319
        }
      },
      "source": [
        "#distribucion de frecuencia de las palabras usando nltk\n",
        "freq = nltk.FreqDist(tokens)\n",
        "\n",
        "#grafico de la distribución de frecuencias\n",
        "freq.plot(20, cumulative=False, title=\"Tokens\")"
      ],
      "execution_count": null,
      "outputs": [
        {
          "output_type": "display_data",
          "data": {
            "image/png": "[encoded data removed]",
            "text/plain": [
              "<Figure size 432x288 with 1 Axes>"
            ]
          },
          "metadata": {
            "tags": [],
            "needs_background": "light"
          }
        }
      ]
    },
    {
      "cell_type": "markdown",
      "metadata": {
        "id": "rluARCN4txXw"
      },
      "source": [
        "Como aparecen algunos signos de puntuación ( , ? . ), vamos a utilizar la función *regexp_tokenize* para obtener tokens más precisos."
      ]
    },
    {
      "cell_type": "code",
      "metadata": {
        "id": "R3GBtIcItwXs",
        "outputId": "7f5f6b3f-b0fe-4d7d-8fd1-798a29385c76",
        "colab": {
          "base_uri": "https://localhost:8080/",
          "height": 319
        }
      },
      "source": [
        "tokens = regexp_tokenize(sentence, pattern=\"\\w+\")\n",
        "\n",
        "#distribucion de frecuencia de las palabras usando nltk\n",
        "freq = nltk.FreqDist(tokens)\n",
        "\n",
        "#grafico de la distribución de frecuencias\n",
        "freq.plot(20, cumulative=False, title = \"Tokens sin signos de puntiación\")"
      ],
      "execution_count": null,
      "outputs": [
        {
          "output_type": "display_data",
          "data": {
            "image/png": "[encoded data removed]",
            "text/plain": [
              "<Figure size 432x288 with 1 Axes>"
            ]
          },
          "metadata": {
            "tags": [],
            "needs_background": "light"
          }
        }
      ]
    },
    {
      "cell_type": "code",
      "metadata": {
        "id": "VWbQEI_TWOiU"
      },
      "source": [
        "#buscamos las palabras de parada en español\n",
        "from nltk.corpus import stopwords\n",
        "sr = stopwords.words('spanish')"
      ],
      "execution_count": null,
      "outputs": []
    },
    {
      "cell_type": "code",
      "metadata": {
        "id": "J-cYu7yPWOi_"
      },
      "source": [
        "#limpiamos los tokens\n",
        "clean_tokens = tokens[:]\n",
        "\n",
        "for token in tokens:\n",
        "    if token in stopwords.words('spanish'):\n",
        "        clean_tokens.remove(token)\n",
        "\n",
        "freq = nltk.FreqDist(clean_tokens)\n",
        "\n",
        "#for key,val in freq.items():\n",
        "#    print (str(key) + ':' + str(val))"
      ],
      "execution_count": null,
      "outputs": []
    },
    {
      "cell_type": "code",
      "metadata": {
        "id": "ahQe87XBWOjI",
        "outputId": "d4893b5e-233c-480a-c776-24223c863366",
        "colab": {
          "base_uri": "https://localhost:8080/",
          "height": 347
        }
      },
      "source": [
        "#grafica con los tokens sin palabras de parada\n",
        "freq.plot(20, cumulative=False, title = \"Tokens sin palabras de parada\")"
      ],
      "execution_count": null,
      "outputs": [
        {
          "output_type": "display_data",
          "data": {
            "image/png": "[encoded data removed]",
            "text/plain": [
              "<Figure size 432x288 with 1 Axes>"
            ]
          },
          "metadata": {
            "tags": [],
            "needs_background": "light"
          }
        }
      ]
    },
    {
      "cell_type": "code",
      "metadata": {
        "id": "nFa4oNFSykMh"
      },
      "source": [
        "#para generar n-gramas\n",
        "from nltk.util import ngrams\n",
        "cuatrigrama = ngrams(tokens,4)\n",
        "cuatrigrama = [ ' '.join(grams) for grams in cuatrigrama]"
      ],
      "execution_count": null,
      "outputs": []
    },
    {
      "cell_type": "code",
      "metadata": {
        "id": "b343L2x13wLF",
        "outputId": "db45b323-3ace-46be-f05b-f218defe12c0",
        "colab": {
          "base_uri": "https://localhost:8080/",
          "height": 441
        }
      },
      "source": [
        "#grafica con los cuatrigramas\n",
        "freq = nltk.FreqDist(cuatrigrama)\n",
        "freq.plot(20, cumulative=False, title = \"4-grama\")"
      ],
      "execution_count": null,
      "outputs": [
        {
          "output_type": "display_data",
          "data": {
            "image/png": "[encoded data removed]",
            "text/plain": [
              "<Figure size 432x288 with 1 Axes>"
            ]
          },
          "metadata": {
            "tags": [],
            "needs_background": "light"
          }
        }
      ]
    },
    {
      "cell_type": "code",
      "metadata": {
        "id": "OCVlIelz_OwO"
      },
      "source": [
        ""
      ],
      "execution_count": null,
      "outputs": []
    }
  ]
}